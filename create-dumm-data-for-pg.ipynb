{
 "cells": [
  {
   "cell_type": "code",
   "execution_count": 2,
   "metadata": {},
   "outputs": [
    {
     "name": "stdout",
     "output_type": "stream",
     "text": [
      "Defaulting to user installation because normal site-packages is not writeable\n",
      "Collecting werkzeug\n",
      "  Downloading werkzeug-3.0.3-py3-none-any.whl (227 kB)\n",
      "\u001b[2K     \u001b[90m━━━━━━━━━━━━━━━━━━━━━━━━━━━━━━━━━━━━━\u001b[0m \u001b[32m227.3/227.3 KB\u001b[0m \u001b[31m857.6 kB/s\u001b[0m eta \u001b[36m0:00:00\u001b[0ma \u001b[36m0:00:01\u001b[0m\n",
      "\u001b[?25hCollecting MarkupSafe>=2.1.1\n",
      "  Downloading MarkupSafe-2.1.5-cp310-cp310-manylinux_2_17_x86_64.manylinux2014_x86_64.whl (25 kB)\n",
      "Installing collected packages: MarkupSafe, werkzeug\n",
      "Successfully installed MarkupSafe-2.1.5 werkzeug-3.0.3\n"
     ]
    }
   ],
   "source": [
    "!pip install werkzeug"
   ]
  },
  {
   "cell_type": "code",
   "execution_count": 3,
   "metadata": {},
   "outputs": [
    {
     "name": "stdout",
     "output_type": "stream",
     "text": [
      "scrypt:32768:8:1$DyPcBC6d0skrqc7J$d056b13d13066b5709ef9ec1f0e023ff0b53b537fb14a9752a7539dafde7db2ff11bb52634d16dad185c8d9fca0b8872caee0564eb67d217f062a8ec523563c6\n",
      "Password is incorrect!\n"
     ]
    }
   ],
   "source": [
    "from werkzeug.security import generate_password_hash, check_password_hash\n",
    "\n",
    "# Define a password\n",
    "password = \"your_password_here\"\n",
    "\n",
    "# Generate a hashed password using PBKDF2 (default)\n",
    "hashed_password = generate_password_hash(password)\n",
    "\n",
    "# Print the hashed password (it will include salt and algorithm info)\n",
    "print(hashed_password)\n",
    "\n",
    "# Verify a password against the stored hash\n",
    "user_password = input(\"Enter your password: \")\n",
    "is_valid = check_password_hash(hashed_password, user_password)\n",
    "\n",
    "if is_valid:\n",
    "  print(\"Password is correct!\")\n",
    "else:\n",
    "  print(\"Password is incorrect!\")\n"
   ]
  },
  {
   "cell_type": "code",
   "execution_count": null,
   "metadata": {},
   "outputs": [],
   "source": [
    "\n",
    "\n",
    "\n",
    "david@example.com\n",
    "eve@example.com"
   ]
  },
  {
   "cell_type": "code",
   "execution_count": 4,
   "metadata": {},
   "outputs": [
    {
     "name": "stdout",
     "output_type": "stream",
     "text": [
      "scrypt:32768:8:1$oqtihBMXQ3AW0eea$32301d11c00a48db347c5b6705e88716f5ecca045ea2ecc6387bcab40e7d8423f0c83c9570431764f8bb051088d7ed7f9ec0ff8381915cf58f191788ba4940da\n",
      "scrypt:32768:8:1$mkVBMtsTzDVK2LU6$c3cdbb1c502f0d818ea8d0a25e4f8e9c0b383cef3c82784549e37502f74fd8593db7d75169599bd42ece58cecbded582a31b4ddbcb1239d0dc7594ebce097ecc\n",
      "scrypt:32768:8:1$bHD6PH7LkW0aieV8$a0a43d72f28d9b2a80fd6f898fd40015876a9d5b57773a53565a8e1fc7785aa4122f8db7a3cc2a9758b5ca5eed6657cb548176a6fc7d92a8bbda32681784ca7e\n",
      "scrypt:32768:8:1$UKTYXuvD5EDxVfMP$29471152e724c8975f8b528a7a929ca449f0210d9cff333654b3e914db8cacc20cd249b639fe409507d571411b9992b0591bb170cf3bc7a0012b2ef6b2acc5a9\n",
      "scrypt:32768:8:1$1vs1NXUwSZJfjHd1$5017f438561ca2dba2f59751838d3d508a4b85bfd044919055efe5ca1d68530a965e4b8ccdc3f208dd8d9a27b8d0900162130f730a2fd4edb51ab5a97cacfde3\n"
     ]
    }
   ],
   "source": [
    "print(generate_password_hash('alice@example.com'))\n",
    "print(generate_password_hash('bob@example.com'))\n",
    "print(generate_password_hash('charlie@example.com'))\n",
    "print(generate_password_hash('david@example.com'))\n",
    "print(generate_password_hash('eve@example.com'))"
   ]
  },
  {
   "cell_type": "code",
   "execution_count": 5,
   "metadata": {},
   "outputs": [
    {
     "data": {
      "text/plain": [
       "'scrypt:32768:8:1$oqdKu88BSwFG3XNX$a62cef6edab30161d7cfb51069a7029afa1011ac4a520a13a924ead17bd64156ddec87aa00797843a72f9a2fe84a5549934181c451141b2e49318a760c512d74'"
      ]
     },
     "execution_count": 5,
     "metadata": {},
     "output_type": "execute_result"
    }
   ],
   "source": [
    "hash = generate_password_hash('alice@example.com')\n",
    "hash."
   ]
  },
  {
   "cell_type": "code",
   "execution_count": null,
   "metadata": {},
   "outputs": [],
   "source": []
  }
 ],
 "metadata": {
  "kernelspec": {
   "display_name": "Python 3",
   "language": "python",
   "name": "python3"
  },
  "language_info": {
   "codemirror_mode": {
    "name": "ipython",
    "version": 3
   },
   "file_extension": ".py",
   "mimetype": "text/x-python",
   "name": "python",
   "nbconvert_exporter": "python",
   "pygments_lexer": "ipython3",
   "version": "3.10.12"
  }
 },
 "nbformat": 4,
 "nbformat_minor": 2
}
